{
  "cells": [
    {
      "cell_type": "markdown",
      "metadata": {
        "colab_type": "text",
        "id": "view-in-github"
      },
      "source": [
        "<a href=\"https://colab.research.google.com/github/w-lly/Agentic-AI-for-Insights/blob/Task-1-pdf-scanning/main.ipynb\" target=\"_parent\"><img src=\"https://colab.research.google.com/assets/colab-badge.svg\" alt=\"Open In Colab\"/></a>"
      ]
    },
    {
      "cell_type": "markdown",
      "metadata": {},
      "source": [
        "# Install requirements"
      ]
    },
    {
      "cell_type": "code",
      "execution_count": 15,
      "metadata": {},
      "outputs": [
        {
          "name": "stdout",
          "output_type": "stream",
          "text": [
            "Defaulting to user installation because normal site-packages is not writeable\n",
            "Requirement already satisfied: pymupdf in /Users/dale/Library/Python/3.10/lib/python/site-packages (1.26.4)\n",
            "\u001b[33mWARNING: You are using pip version 21.2.4; however, version 25.2 is available.\n",
            "You should consider upgrading via the '/usr/local/bin/python3.10 -m pip install --upgrade pip' command.\u001b[0m\n",
            "Note: you may need to restart the kernel to use updated packages.\n",
            "Defaulting to user installation because normal site-packages is not writeable\n",
            "Requirement already satisfied: pandas in /Users/dale/Library/Python/3.10/lib/python/site-packages (2.3.2)\n",
            "Requirement already satisfied: pytz>=2020.1 in /Users/dale/Library/Python/3.10/lib/python/site-packages (from pandas) (2025.2)\n",
            "Requirement already satisfied: tzdata>=2022.7 in /Users/dale/Library/Python/3.10/lib/python/site-packages (from pandas) (2025.2)\n",
            "Requirement already satisfied: python-dateutil>=2.8.2 in /Users/dale/Library/Python/3.10/lib/python/site-packages (from pandas) (2.8.2)\n",
            "Requirement already satisfied: numpy>=1.22.4 in /Users/dale/Library/Python/3.10/lib/python/site-packages (from pandas) (2.2.6)\n",
            "Requirement already satisfied: six>=1.5 in /Users/dale/Library/Python/3.10/lib/python/site-packages (from python-dateutil>=2.8.2->pandas) (1.16.0)\n",
            "\u001b[33mWARNING: You are using pip version 21.2.4; however, version 25.2 is available.\n",
            "You should consider upgrading via the '/usr/local/bin/python3.10 -m pip install --upgrade pip' command.\u001b[0m\n",
            "Note: you may need to restart the kernel to use updated packages.\n",
            "Defaulting to user installation because normal site-packages is not writeable\n",
            "Collecting tiktoken\n",
            "  Downloading tiktoken-0.11.0-cp310-cp310-macosx_11_0_arm64.whl (999 kB)\n",
            "\u001b[K     |████████████████████████████████| 999 kB 3.5 MB/s eta 0:00:01\n",
            "\u001b[?25hCollecting regex>=2022.1.18\n",
            "  Downloading regex-2025.9.1-cp310-cp310-macosx_11_0_arm64.whl (286 kB)\n",
            "\u001b[K     |████████████████████████████████| 286 kB 26.1 MB/s eta 0:00:01\n",
            "\u001b[?25hCollecting requests>=2.26.0\n",
            "  Downloading requests-2.32.5-py3-none-any.whl (64 kB)\n",
            "\u001b[K     |████████████████████████████████| 64 kB 19.6 MB/s eta 0:00:011\n",
            "\u001b[?25hCollecting certifi>=2017.4.17\n",
            "  Downloading certifi-2025.8.3-py3-none-any.whl (161 kB)\n",
            "\u001b[K     |████████████████████████████████| 161 kB 47.7 MB/s eta 0:00:01\n",
            "\u001b[?25hCollecting urllib3<3,>=1.21.1\n",
            "  Downloading urllib3-2.5.0-py3-none-any.whl (129 kB)\n",
            "\u001b[K     |████████████████████████████████| 129 kB 28.5 MB/s eta 0:00:01\n",
            "\u001b[?25hCollecting idna<4,>=2.5\n",
            "  Downloading idna-3.10-py3-none-any.whl (70 kB)\n",
            "\u001b[K     |████████████████████████████████| 70 kB 40.5 MB/s eta 0:00:011\n",
            "\u001b[?25hCollecting charset_normalizer<4,>=2\n",
            "  Downloading charset_normalizer-3.4.3-cp310-cp310-macosx_10_9_universal2.whl (207 kB)\n",
            "\u001b[K     |████████████████████████████████| 207 kB 77.5 MB/s eta 0:00:01\n",
            "\u001b[?25hInstalling collected packages: urllib3, idna, charset-normalizer, certifi, requests, regex, tiktoken\n",
            "Successfully installed certifi-2025.8.3 charset-normalizer-3.4.3 idna-3.10 regex-2025.9.1 requests-2.32.5 tiktoken-0.11.0 urllib3-2.5.0\n",
            "\u001b[33mWARNING: You are using pip version 21.2.4; however, version 25.2 is available.\n",
            "You should consider upgrading via the '/usr/local/bin/python3.10 -m pip install --upgrade pip' command.\u001b[0m\n",
            "Note: you may need to restart the kernel to use updated packages.\n"
          ]
        }
      ],
      "source": [
        "%pip install pymupdf\n",
        "%pip install pandas\n",
        "%pip install tiktoken"
      ]
    },
    {
      "cell_type": "markdown",
      "metadata": {},
      "source": [
        "# Step 1: Extract text from the PDF using PyMuPDF"
      ]
    },
    {
      "cell_type": "code",
      "execution_count": 21,
      "metadata": {
        "colab": {
          "base_uri": "https://localhost:8080/"
        },
        "id": "_X8XxgjVhwXx",
        "outputId": "677d6f81-002c-400e-b047-6bfec2c57284"
      },
      "outputs": [
        {
          "name": "stdout",
          "output_type": "stream",
          "text": [
            "data/input/20169320_TUM_SB1200_en.pdf\n",
            "88\n"
          ]
        }
      ],
      "source": [
        "import fitz\n",
        "import pymupdf\n",
        "import pandas as pd\n",
        "\n",
        "doc = pymupdf.open(\"data/input/20169320_TUM_SB1200_en.pdf\")\n",
        "print(doc.name)\n",
        "print(doc.page_count)\n",
        "extracted_text = \"\"\n",
        "for page in doc:\n",
        "    extracted_text += page.get_text()\n",
        "# print(extracted_text)\n",
        "# Save to CSV\n",
        "df = pd.DataFrame({\"text\": [extracted_text]})\n",
        "df.to_csv(\"data/output/extracted_text_from_pdf.csv\", index=False)"
      ]
    },
    {
      "cell_type": "markdown",
      "metadata": {
        "id": "QARiYQX72bDu"
      },
      "source": [
        "# Step 2: Chunk text with metadata"
      ]
    },
    {
      "cell_type": "code",
      "execution_count": 24,
      "metadata": {},
      "outputs": [
        {
          "name": "stdout",
          "output_type": "stream",
          "text": [
            "cl100k_base\n"
          ]
        }
      ],
      "source": [
        "import tiktoken\n",
        "import pandas as pd\n",
        "\n",
        "# Load tokenizer \n",
        "encoding = tiktoken.encoding_for_model(\"gpt-3.5-turbo\")\n",
        "print(encoding.name)\n",
        "\n",
        "# Chunking function\n",
        "def chunk_text_with_metadata(text, chunk_size=500, overlap=50):\n",
        "    tokens = encoding.encode(text)\n",
        "    chunks = []\n",
        "    start = 0\n",
        "    chunk_id = 0\n",
        "\n",
        "    while start < len(tokens):\n",
        "        end = start + chunk_size\n",
        "        chunk_tokens = tokens[start:end]\n",
        "        chunk_text = encoding.decode(chunk_tokens)\n",
        "        \n",
        "        chunks.append({\n",
        "            \"chunk_id\": chunk_id,\n",
        "            \"start_token\": start,\n",
        "            \"end_token\": end,\n",
        "            \"text\": chunk_text\n",
        "        })\n",
        "\n",
        "        chunk_id += 1\n",
        "        start += chunk_size - overlap  # sliding window\n",
        "    return pd.DataFrame(chunks)\n",
        "\n",
        "chunk_df = chunk_text_with_metadata(extracted_text)\n",
        "\n",
        "chunk_df.to_csv(\"data/output/chunked_pdf_text.csv\", index=False)"
      ]
    },
    {
      "cell_type": "code",
      "execution_count": 25,
      "metadata": {},
      "outputs": [
        {
          "data": {
            "text/html": [
              "<div>\n",
              "<style scoped>\n",
              "    .dataframe tbody tr th:only-of-type {\n",
              "        vertical-align: middle;\n",
              "    }\n",
              "\n",
              "    .dataframe tbody tr th {\n",
              "        vertical-align: top;\n",
              "    }\n",
              "\n",
              "    .dataframe thead th {\n",
              "        text-align: right;\n",
              "    }\n",
              "</style>\n",
              "<table border=\"1\" class=\"dataframe\">\n",
              "  <thead>\n",
              "    <tr style=\"text-align: right;\">\n",
              "      <th></th>\n",
              "      <th>chunk_id</th>\n",
              "      <th>start_token</th>\n",
              "      <th>end_token</th>\n",
              "      <th>text</th>\n",
              "    </tr>\n",
              "  </thead>\n",
              "  <tbody>\n",
              "    <tr>\n",
              "      <th>0</th>\n",
              "      <td>0</td>\n",
              "      <td>0</td>\n",
              "      <td>500</td>\n",
              "      <td>USER MANUAL\\nSB1200\\nFCS4074\\nen\\nRead the use...</td>\n",
              "    </tr>\n",
              "    <tr>\n",
              "      <th>1</th>\n",
              "      <td>1</td>\n",
              "      <td>450</td>\n",
              "      <td>950</td>\n",
              "      <td>44\\n7.11\\nEmptying the cooling unit\\n 45\\n8\\nP...</td>\n",
              "    </tr>\n",
              "    <tr>\n",
              "      <th>2</th>\n",
              "      <td>2</td>\n",
              "      <td>900</td>\n",
              "      <td>1400</td>\n",
              "      <td>.4\\nLong-term decommissioning\\n 82\\n13.5\\nTran...</td>\n",
              "    </tr>\n",
              "    <tr>\n",
              "      <th>3</th>\n",
              "      <td>3</td>\n",
              "      <td>1350</td>\n",
              "      <td>1850</td>\n",
              "      <td>intended exclusively for operation indoors.\\n...</td>\n",
              "    </tr>\n",
              "    <tr>\n",
              "      <th>4</th>\n",
              "      <td>4</td>\n",
              "      <td>1800</td>\n",
              "      <td>2300</td>\n",
              "      <td>or add-on units if you are not familiar with ...</td>\n",
              "    </tr>\n",
              "    <tr>\n",
              "      <th>5</th>\n",
              "      <td>5</td>\n",
              "      <td>2250</td>\n",
              "      <td>2750</td>\n",
              "      <td>is permanently assembled, contact the service...</td>\n",
              "    </tr>\n",
              "    <tr>\n",
              "      <th>6</th>\n",
              "      <td>6</td>\n",
              "      <td>2700</td>\n",
              "      <td>3200</td>\n",
              "      <td>leading to injury.\\na) Never insert any objec...</td>\n",
              "    </tr>\n",
              "    <tr>\n",
              "      <th>7</th>\n",
              "      <td>7</td>\n",
              "      <td>3150</td>\n",
              "      <td>3650</td>\n",
              "      <td>\\nDescription\\nClean components using the 5-st...</td>\n",
              "    </tr>\n",
              "    <tr>\n",
              "      <th>8</th>\n",
              "      <td>8</td>\n",
              "      <td>3600</td>\n",
              "      <td>4100</td>\n",
              "      <td>.3\\nDepiction of error messages\\nEspresso\\nCap...</td>\n",
              "    </tr>\n",
              "    <tr>\n",
              "      <th>9</th>\n",
              "      <td>9</td>\n",
              "      <td>4050</td>\n",
              "      <td>4550</td>\n",
              "      <td>for fixing are included)\\n560.0623.576\\nFrank...</td>\n",
              "    </tr>\n",
              "  </tbody>\n",
              "</table>\n",
              "</div>"
            ],
            "text/plain": [
              "   chunk_id  start_token  end_token  \\\n",
              "0         0            0        500   \n",
              "1         1          450        950   \n",
              "2         2          900       1400   \n",
              "3         3         1350       1850   \n",
              "4         4         1800       2300   \n",
              "5         5         2250       2750   \n",
              "6         6         2700       3200   \n",
              "7         7         3150       3650   \n",
              "8         8         3600       4100   \n",
              "9         9         4050       4550   \n",
              "\n",
              "                                                text  \n",
              "0  USER MANUAL\\nSB1200\\nFCS4074\\nen\\nRead the use...  \n",
              "1  44\\n7.11\\nEmptying the cooling unit\\n 45\\n8\\nP...  \n",
              "2  .4\\nLong-term decommissioning\\n 82\\n13.5\\nTran...  \n",
              "3   intended exclusively for operation indoors.\\n...  \n",
              "4   or add-on units if you are not familiar with ...  \n",
              "5   is permanently assembled, contact the service...  \n",
              "6   leading to injury.\\na) Never insert any objec...  \n",
              "7  \\nDescription\\nClean components using the 5-st...  \n",
              "8  .3\\nDepiction of error messages\\nEspresso\\nCap...  \n",
              "9   for fixing are included)\\n560.0623.576\\nFrank...  "
            ]
          },
          "execution_count": 25,
          "metadata": {},
          "output_type": "execute_result"
        }
      ],
      "source": [
        "df= pd.read_csv(\"data/output/chunked_pdf_text.csv\").head(10)\n",
        "df"
      ]
    },
    {
      "cell_type": "markdown",
      "metadata": {},
      "source": []
    }
  ],
  "metadata": {
    "colab": {
      "include_colab_link": true,
      "provenance": []
    },
    "kernelspec": {
      "display_name": "Python 3",
      "name": "python3"
    },
    "language_info": {
      "codemirror_mode": {
        "name": "ipython",
        "version": 3
      },
      "file_extension": ".py",
      "mimetype": "text/x-python",
      "name": "python",
      "nbconvert_exporter": "python",
      "pygments_lexer": "ipython3",
      "version": "3.10.2"
    }
  },
  "nbformat": 4,
  "nbformat_minor": 0
}
